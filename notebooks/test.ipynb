{
 "cells": [
  {
   "cell_type": "code",
   "execution_count": 1,
   "id": "89df960e-fbba-4f88-bcfb-0d2c0038536b",
   "metadata": {
    "ExecuteTime": {
     "end_time": "2024-04-17T16:28:04.247024398Z",
     "start_time": "2024-04-17T16:28:04.198378256Z"
    }
   },
   "outputs": [],
   "source": [
    "%load_ext autoreload\n",
    "%autoreload 2\n",
    "%load_ext dotenv\n",
    "%dotenv"
   ]
  },
  {
   "cell_type": "code",
   "execution_count": 2,
   "id": "169bdc2b-bc01-45a7-8725-d10232b29e13",
   "metadata": {
    "ExecuteTime": {
     "end_time": "2024-04-17T16:28:07.061889858Z",
     "start_time": "2024-04-17T16:28:05.987756668Z"
    }
   },
   "outputs": [],
   "source": [
    "import openai\n",
    "from playwright.async_api import async_playwright\n",
    "\n",
    "from aiselectors.aiselectors import AISelectors\n",
    "from aiselectors.validators import require_href, require_unique, require_unique_href"
   ]
  },
  {
   "cell_type": "markdown",
   "source": [
    "## Start the playwright browser and open the boardgamegeek website"
   ],
   "metadata": {
    "collapsed": false
   },
   "id": "d904cb26d5e36144"
  },
  {
   "cell_type": "code",
   "execution_count": 3,
   "outputs": [],
   "source": [
    "cache_path = '../cache.json'"
   ],
   "metadata": {
    "collapsed": false,
    "ExecuteTime": {
     "end_time": "2024-04-17T16:28:08.380357571Z",
     "start_time": "2024-04-17T16:28:08.356021893Z"
    }
   },
   "id": "a8d5ad41ee3b76bb"
  },
  {
   "cell_type": "code",
   "execution_count": 4,
   "id": "4a04ac79-90bc-4188-93ea-b3d55b946d28",
   "metadata": {
    "ExecuteTime": {
     "end_time": "2024-04-17T16:28:10.069020571Z",
     "start_time": "2024-04-17T16:28:09.784583451Z"
    }
   },
   "outputs": [],
   "source": [
    "client = openai.OpenAI()\n",
    "playwright = await async_playwright().start()"
   ]
  },
  {
   "cell_type": "code",
   "execution_count": 5,
   "outputs": [],
   "source": [
    "ais = AISelectors(client)"
   ],
   "metadata": {
    "collapsed": false,
    "ExecuteTime": {
     "end_time": "2024-04-17T16:28:11.184987886Z",
     "start_time": "2024-04-17T16:28:11.148859122Z"
    }
   },
   "id": "470cd09bb543b985"
  },
  {
   "cell_type": "code",
   "execution_count": 6,
   "id": "443d7472-72e4-4b30-86e2-30bd2c6f5d79",
   "metadata": {
    "ExecuteTime": {
     "end_time": "2024-04-17T16:28:12.788612201Z",
     "start_time": "2024-04-17T16:28:12.326374312Z"
    }
   },
   "outputs": [],
   "source": [
    "browser = await playwright.chromium.launch(headless=False)"
   ]
  },
  {
   "cell_type": "code",
   "execution_count": 7,
   "id": "a8468c32-6b3f-4ba2-8ec4-e12870a738a2",
   "metadata": {
    "ExecuteTime": {
     "end_time": "2024-04-17T16:28:14.984209553Z",
     "start_time": "2024-04-17T16:28:14.731664818Z"
    }
   },
   "outputs": [],
   "source": [
    "page = await browser.new_page()"
   ]
  },
  {
   "cell_type": "code",
   "execution_count": 8,
   "id": "e204fe88-b821-4aa4-81be-f87dd59cdc04",
   "metadata": {
    "ExecuteTime": {
     "end_time": "2024-04-17T16:28:20.374549129Z",
     "start_time": "2024-04-17T16:28:18.631197560Z"
    }
   },
   "outputs": [
    {
     "data": {
      "text/plain": "<Response url='https://boardgamegeek.com/' request=<Request url='https://boardgamegeek.com/' method='GET'>>"
     },
     "execution_count": 8,
     "metadata": {},
     "output_type": "execute_result"
    }
   ],
   "source": [
    "url = \"https://boardgamegeek.com/\"\n",
    "await page.goto(url)"
   ]
  },
  {
   "cell_type": "code",
   "execution_count": 9,
   "id": "26eae272-e9e5-49ea-89a8-f4656a548ef7",
   "metadata": {
    "ExecuteTime": {
     "end_time": "2024-04-17T16:28:22.425677621Z",
     "start_time": "2024-04-17T16:28:22.342998665Z"
    }
   },
   "outputs": [
    {
     "data": {
      "text/plain": "354517"
     },
     "execution_count": 9,
     "metadata": {},
     "output_type": "execute_result"
    }
   ],
   "source": [
    "html = await page.content()\n",
    "len(html)"
   ]
  },
  {
   "cell_type": "code",
   "execution_count": 10,
   "id": "3a588775-4fb1-42ed-8a05-b6dbf5eccbd1",
   "metadata": {
    "ExecuteTime": {
     "end_time": "2024-04-17T16:28:25.189305816Z",
     "start_time": "2024-04-17T16:28:24.998938808Z"
    }
   },
   "outputs": [
    {
     "data": {
      "text/plain": "99193"
     },
     "execution_count": 10,
     "metadata": {},
     "output_type": "execute_result"
    }
   ],
   "source": [
    "aipage = ais.page(url, html)\n",
    "len(aipage.cleaned_html)"
   ]
  },
  {
   "cell_type": "markdown",
   "source": [
    "## Navigate to the list of board games"
   ],
   "metadata": {
    "collapsed": false
   },
   "id": "f6f3c54327172f11"
  },
  {
   "cell_type": "code",
   "execution_count": 13,
   "outputs": [
    {
     "name": "stdout",
     "output_type": "stream",
     "text": [
      "responses [{'selector': '.dropdown-toggle.btn'}, {'selector': \".c-nav-primary .dropdown-primary .dropdown-menu-lg .dropdown-menu .dropdown-item a[href='/browse/boardgame']\"}, {'selector': '.dropdown-toggle.btn'}, {'xpath': \"//button[contains(text(), 'Browse')]\"}, {'xpath': \"//button[contains(text(), 'Browse')]\"}, {'xpath': \"//button[contains(text(), 'Browse')]\"}, {'text': ['All Boardgames', 'Categories', 'Artists', 'Publishers', 'Honors', 'Gone Cardboard', 'Recent Additions', 'Previews', 'Families', 'Mechanics', 'Designers', 'Accessories', 'Random Game', 'Podcasts', 'Wiki']}, {'text': ['All Boardgames', 'Categories', 'Artists', 'Publishers', 'Honors', 'Gone Cardboard', 'Recent Additions', 'Previews', 'Families', 'Mechanics', 'Designers', 'Accessories', 'Random Game', 'Podcasts', 'Wiki']}, {'text': ['All Boardgames', 'Categories', 'Artists', 'Publishers', 'Honors', 'Gone Cardboard', 'Recent Additions', 'Previews', 'Families', 'Mechanics', 'Designers', 'Accessories', 'Random Game', 'Podcasts', 'Wiki']}]\n",
      "selector descendant-or-self::*[(@class and contains(concat(' ', normalize-space(@class), ' '), ' dropdown-toggle ')) and (@class and contains(concat(' ', normalize-space(@class), ' '), ' btn '))]\n",
      "selector descendant-or-self::*[@class and contains(concat(' ', normalize-space(@class), ' '), ' c-nav-primary ')]/descendant-or-self::*/*[@class and contains(concat(' ', normalize-space(@class), ' '), ' dropdown-primary ')]/descendant-or-self::*/*[@class and contains(concat(' ', normalize-space(@class), ' '), ' dropdown-menu-lg ')]/descendant-or-self::*/*[@class and contains(concat(' ', normalize-space(@class), ' '), ' dropdown-menu ')]/descendant-or-self::*/*[@class and contains(concat(' ', normalize-space(@class), ' '), ' dropdown-item ')]/descendant-or-self::*/a[@href = '/browse/boardgame']\n",
      "selector descendant-or-self::*[(@class and contains(concat(' ', normalize-space(@class), ' '), ' dropdown-toggle ')) and (@class and contains(concat(' ', normalize-space(@class), ' '), ' btn '))]\n",
      "xpath //button[contains(text(), 'Browse')]\n",
      "xpath //button[contains(text(), 'Browse')]\n",
      "xpath //button[contains(text(), 'Browse')]\n",
      "text ['All Boardgames', 'Categories', 'Artists', 'Publishers', 'Honors', 'Gone Cardboard', 'Recent Additions', 'Previews', 'Families', 'Mechanics', 'Designers', 'Accessories', 'Random Game', 'Podcasts', 'Wiki']\n",
      "texts xpaths ['/html/body/gg-app/div/gg-header/header/nav/div/div[1]/div/div[1]/ul/li[1]/div/div/div/div[1]/span[1]/a', '/html/body/gg-app/div/gg-header/header/nav/div/div[1]/div/div[1]/ul/li[1]/div/div/div/div[1]/span[2]/a', '/html/body/gg-app/div/gg-header/header/nav/div/div[1]/div/div[1]/ul/li[1]/div/div/div/div[1]/span[3]/a', '/html/body/gg-app/div/gg-header/header/nav/div/gg-header-search/gg-search-container/gg-search/form/div[2]/select/option[2]', '/html/body/gg-app/div/gg-header/header/nav/div/div[1]/div/div[1]/ul/li[1]/div/div/div/div[1]/span[4]/a', '/html/body/gg-app/div/gg-header/header/nav/div/gg-header-search/gg-search-container/gg-search/form/div[2]/select/option[4]', '/html/body/gg-app/div/gg-header/header/nav/div/div[1]/div/div[1]/ul/li[1]/div/div/div/div[1]/span[5]/a', '/html/body/gg-app/div/gg-header/header/nav/div/gg-header-search/gg-search-container/gg-search/form/div[2]/select/option[9]', '/html/body/gg-app/div/gg-header/header/nav/div/div[1]/div/div[1]/ul/li[1]/div/div/div/div[1]/span[6]/a', '/html/body/gg-app/div/gg-header/header/nav/div/div[1]/div/div[1]/ul/li[1]/div/div/div/div[1]/span[7]/a', '/html/body/gg-app/div/gg-header/header/nav/div/div[1]/div/div[1]/ul/li[1]/div/div/div/div[1]/span[8]/a', '/html/body/gg-app/div/gg-header/header/nav/div/div[1]/div/div[1]/ul/li[1]/div/div/div/div[2]/span[1]/a', '/html/body/gg-app/div/gg-header/header/nav/div/gg-header-search/gg-search-container/gg-search/form/div[2]/select/option[6]', '/html/body/gg-app/div/gg-header/header/nav/div/div[1]/div/div[1]/ul/li[1]/div/div/div/div[2]/span[2]/a', '/html/body/gg-app/div/gg-header/header/nav/div/div[1]/div/div[1]/ul/li[1]/div/div/div/div[2]/span[3]/a', '/html/body/gg-app/div/gg-header/header/nav/div/gg-header-search/gg-search-container/gg-search/form/div[2]/select/option[3]', '/html/body/gg-app/div/gg-header/header/nav/div/div[1]/div/div[1]/ul/li[1]/div/div/div/div[2]/span[4]/a', '/html/body/gg-app/div/gg-header/header/nav/div/gg-header-search/gg-search-container/gg-search/form/div[2]/select/option[5]', '/html/body/gg-app/div/gg-header/header/nav/div/div[1]/div/div[1]/ul/li[1]/div/div/div/div[2]/span[5]/a', '/html/body/gg-app/div/gg-header/header/nav/div/div[1]/div/div[1]/ul/li[1]/div/div/div/div[2]/span[6]/a', '/html/body/gg-app/div/gg-header/header/nav/div/div[1]/div/div[1]/ul/li[5]/div/div[2]/div[2]/div[1]/span[4]/a', '/html/body/gg-app/div/gg-header/header/nav/div/gg-header-search/gg-search-container/gg-search/form/div[2]/select/option[13]', '/html/body/gg-app/div/gg-header/header/nav/div/div[1]/div/div[1]/ul/li[1]/div/div/div/div[2]/span[7]/a', '/html/body/gg-app/div/gg-header/header/nav/div/gg-header-search/gg-search-container/gg-search/form/div[2]/select/option[11]']\n",
      "texts generalized xpaths ['/html/body/gg-app/div/gg-header/header/nav/div/div[1]/div/div[1]/ul/li/div/div/div/div/span/a', '/html/body/gg-app/div/gg-header/header/nav/div/gg-header-search/gg-search-container/gg-search/form/div[2]/select/option']\n",
      "text ['All Boardgames', 'Categories', 'Artists', 'Publishers', 'Honors', 'Gone Cardboard', 'Recent Additions', 'Previews', 'Families', 'Mechanics', 'Designers', 'Accessories', 'Random Game', 'Podcasts', 'Wiki']\n",
      "texts xpaths ['/html/body/gg-app/div/gg-header/header/nav/div/div[1]/div/div[1]/ul/li[1]/div/div/div/div[1]/span[1]/a', '/html/body/gg-app/div/gg-header/header/nav/div/div[1]/div/div[1]/ul/li[1]/div/div/div/div[1]/span[2]/a', '/html/body/gg-app/div/gg-header/header/nav/div/div[1]/div/div[1]/ul/li[1]/div/div/div/div[1]/span[3]/a', '/html/body/gg-app/div/gg-header/header/nav/div/gg-header-search/gg-search-container/gg-search/form/div[2]/select/option[2]', '/html/body/gg-app/div/gg-header/header/nav/div/div[1]/div/div[1]/ul/li[1]/div/div/div/div[1]/span[4]/a', '/html/body/gg-app/div/gg-header/header/nav/div/gg-header-search/gg-search-container/gg-search/form/div[2]/select/option[4]', '/html/body/gg-app/div/gg-header/header/nav/div/div[1]/div/div[1]/ul/li[1]/div/div/div/div[1]/span[5]/a', '/html/body/gg-app/div/gg-header/header/nav/div/gg-header-search/gg-search-container/gg-search/form/div[2]/select/option[9]', '/html/body/gg-app/div/gg-header/header/nav/div/div[1]/div/div[1]/ul/li[1]/div/div/div/div[1]/span[6]/a', '/html/body/gg-app/div/gg-header/header/nav/div/div[1]/div/div[1]/ul/li[1]/div/div/div/div[1]/span[7]/a', '/html/body/gg-app/div/gg-header/header/nav/div/div[1]/div/div[1]/ul/li[1]/div/div/div/div[1]/span[8]/a', '/html/body/gg-app/div/gg-header/header/nav/div/div[1]/div/div[1]/ul/li[1]/div/div/div/div[2]/span[1]/a', '/html/body/gg-app/div/gg-header/header/nav/div/gg-header-search/gg-search-container/gg-search/form/div[2]/select/option[6]', '/html/body/gg-app/div/gg-header/header/nav/div/div[1]/div/div[1]/ul/li[1]/div/div/div/div[2]/span[2]/a', '/html/body/gg-app/div/gg-header/header/nav/div/div[1]/div/div[1]/ul/li[1]/div/div/div/div[2]/span[3]/a', '/html/body/gg-app/div/gg-header/header/nav/div/gg-header-search/gg-search-container/gg-search/form/div[2]/select/option[3]', '/html/body/gg-app/div/gg-header/header/nav/div/div[1]/div/div[1]/ul/li[1]/div/div/div/div[2]/span[4]/a', '/html/body/gg-app/div/gg-header/header/nav/div/gg-header-search/gg-search-container/gg-search/form/div[2]/select/option[5]', '/html/body/gg-app/div/gg-header/header/nav/div/div[1]/div/div[1]/ul/li[1]/div/div/div/div[2]/span[5]/a', '/html/body/gg-app/div/gg-header/header/nav/div/div[1]/div/div[1]/ul/li[1]/div/div/div/div[2]/span[6]/a', '/html/body/gg-app/div/gg-header/header/nav/div/div[1]/div/div[1]/ul/li[5]/div/div[2]/div[2]/div[1]/span[4]/a', '/html/body/gg-app/div/gg-header/header/nav/div/gg-header-search/gg-search-container/gg-search/form/div[2]/select/option[13]', '/html/body/gg-app/div/gg-header/header/nav/div/div[1]/div/div[1]/ul/li[1]/div/div/div/div[2]/span[7]/a', '/html/body/gg-app/div/gg-header/header/nav/div/gg-header-search/gg-search-container/gg-search/form/div[2]/select/option[11]']\n",
      "texts generalized xpaths ['/html/body/gg-app/div/gg-header/header/nav/div/div[1]/div/div[1]/ul/li/div/div/div/div/span/a', '/html/body/gg-app/div/gg-header/header/nav/div/gg-header-search/gg-search-container/gg-search/form/div[2]/select/option']\n",
      "text ['All Boardgames', 'Categories', 'Artists', 'Publishers', 'Honors', 'Gone Cardboard', 'Recent Additions', 'Previews', 'Families', 'Mechanics', 'Designers', 'Accessories', 'Random Game', 'Podcasts', 'Wiki']\n",
      "texts xpaths ['/html/body/gg-app/div/gg-header/header/nav/div/div[1]/div/div[1]/ul/li[1]/div/div/div/div[1]/span[1]/a', '/html/body/gg-app/div/gg-header/header/nav/div/div[1]/div/div[1]/ul/li[1]/div/div/div/div[1]/span[2]/a', '/html/body/gg-app/div/gg-header/header/nav/div/div[1]/div/div[1]/ul/li[1]/div/div/div/div[1]/span[3]/a', '/html/body/gg-app/div/gg-header/header/nav/div/gg-header-search/gg-search-container/gg-search/form/div[2]/select/option[2]', '/html/body/gg-app/div/gg-header/header/nav/div/div[1]/div/div[1]/ul/li[1]/div/div/div/div[1]/span[4]/a', '/html/body/gg-app/div/gg-header/header/nav/div/gg-header-search/gg-search-container/gg-search/form/div[2]/select/option[4]', '/html/body/gg-app/div/gg-header/header/nav/div/div[1]/div/div[1]/ul/li[1]/div/div/div/div[1]/span[5]/a', '/html/body/gg-app/div/gg-header/header/nav/div/gg-header-search/gg-search-container/gg-search/form/div[2]/select/option[9]', '/html/body/gg-app/div/gg-header/header/nav/div/div[1]/div/div[1]/ul/li[1]/div/div/div/div[1]/span[6]/a', '/html/body/gg-app/div/gg-header/header/nav/div/div[1]/div/div[1]/ul/li[1]/div/div/div/div[1]/span[7]/a', '/html/body/gg-app/div/gg-header/header/nav/div/div[1]/div/div[1]/ul/li[1]/div/div/div/div[1]/span[8]/a', '/html/body/gg-app/div/gg-header/header/nav/div/div[1]/div/div[1]/ul/li[1]/div/div/div/div[2]/span[1]/a', '/html/body/gg-app/div/gg-header/header/nav/div/gg-header-search/gg-search-container/gg-search/form/div[2]/select/option[6]', '/html/body/gg-app/div/gg-header/header/nav/div/div[1]/div/div[1]/ul/li[1]/div/div/div/div[2]/span[2]/a', '/html/body/gg-app/div/gg-header/header/nav/div/div[1]/div/div[1]/ul/li[1]/div/div/div/div[2]/span[3]/a', '/html/body/gg-app/div/gg-header/header/nav/div/gg-header-search/gg-search-container/gg-search/form/div[2]/select/option[3]', '/html/body/gg-app/div/gg-header/header/nav/div/div[1]/div/div[1]/ul/li[1]/div/div/div/div[2]/span[4]/a', '/html/body/gg-app/div/gg-header/header/nav/div/gg-header-search/gg-search-container/gg-search/form/div[2]/select/option[5]', '/html/body/gg-app/div/gg-header/header/nav/div/div[1]/div/div[1]/ul/li[1]/div/div/div/div[2]/span[5]/a', '/html/body/gg-app/div/gg-header/header/nav/div/div[1]/div/div[1]/ul/li[1]/div/div/div/div[2]/span[6]/a', '/html/body/gg-app/div/gg-header/header/nav/div/div[1]/div/div[1]/ul/li[5]/div/div[2]/div[2]/div[1]/span[4]/a', '/html/body/gg-app/div/gg-header/header/nav/div/gg-header-search/gg-search-container/gg-search/form/div[2]/select/option[13]', '/html/body/gg-app/div/gg-header/header/nav/div/div[1]/div/div[1]/ul/li[1]/div/div/div/div[2]/span[7]/a', '/html/body/gg-app/div/gg-header/header/nav/div/gg-header-search/gg-search-container/gg-search/form/div[2]/select/option[11]']\n",
      "texts generalized xpaths ['/html/body/gg-app/div/gg-header/header/nav/div/div[1]/div/div[1]/ul/li/div/div/div/div/span/a', '/html/body/gg-app/div/gg-header/header/nav/div/gg-header-search/gg-search-container/gg-search/form/div[2]/select/option']\n",
      "valid: //button[contains(text(), 'Browse')]\n",
      "invalid: /html/body/gg-app/div/gg-header/header/nav/div/gg-header-search/gg-search-container/gg-search/form/div[2]/select/option\n",
      "invalid: descendant-or-self::*[@class and contains(concat(' ', normalize-space(@class), ' '), ' c-nav-primary ')]/descendant-or-self::*/*[@class and contains(concat(' ', normalize-space(@class), ' '), ' dropdown-primary ')]/descendant-or-self::*/*[@class and contains(concat(' ', normalize-space(@class), ' '), ' dropdown-menu-lg ')]/descendant-or-self::*/*[@class and contains(concat(' ', normalize-space(@class), ' '), ' dropdown-menu ')]/descendant-or-self::*/*[@class and contains(concat(' ', normalize-space(@class), ' '), ' dropdown-item ')]/descendant-or-self::*/a[@href = '/browse/boardgame']\n",
      "invalid: /html/body/gg-app/div/gg-header/header/nav/div/div[1]/div/div[1]/ul/li/div/div/div/div/span/a\n",
      "invalid: descendant-or-self::*[(@class and contains(concat(' ', normalize-space(@class), ' '), ' dropdown-toggle ')) and (@class and contains(concat(' ', normalize-space(@class), ' '), ' btn '))]\n",
      "xpath_text_matches Counter({\"//button[contains(text(), 'Browse')]\": 1})\n",
      "//button[contains(text(), 'Browse')]\n"
     ]
    }
   ],
   "source": [
    "xpath = await aipage.get_xpath('browse menu', [require_unique], verbose=True)\n",
    "print(xpath)\n",
    "await page.click('xpath='+xpath)\n",
    "await page.wait_for_load_state()"
   ],
   "metadata": {
    "collapsed": false,
    "ExecuteTime": {
     "end_time": "2024-04-17T16:37:52.947525001Z",
     "start_time": "2024-04-17T16:37:41.888570141Z"
    }
   },
   "id": "d18cd42847bfa5d"
  },
  {
   "cell_type": "code",
   "execution_count": 14,
   "id": "66402074-acc3-4f2d-9ff3-4e05d1ea634e",
   "metadata": {
    "scrolled": true,
    "ExecuteTime": {
     "end_time": "2024-04-17T16:38:57.877022314Z",
     "start_time": "2024-04-17T16:38:43.217645487Z"
    }
   },
   "outputs": [
    {
     "name": "stdout",
     "output_type": "stream",
     "text": [
      "responses [{'selector': \"a[href='/browse/boardgame']\"}, {'selector': \"a[href='/browse/boardgame']\"}, {'selector': \"a[href='/browse/boardgame']\"}, {'xpath': \"//a[@href='/browse/boardgame']\"}, {'xpath': \"//a[@href='/browse/boardgame']\"}, {'xpath': \"//a[@href='/browse/boardgame']\"}, {'text': '/browse/boardgame'}, {'text': '/browse/boardgame'}, {'text': '/browse/boardgame'}]\n",
      "selector descendant-or-self::a[@href = '/browse/boardgame']\n",
      "selector descendant-or-self::a[@href = '/browse/boardgame']\n",
      "selector descendant-or-self::a[@href = '/browse/boardgame']\n",
      "xpath //a[@href='/browse/boardgame']\n",
      "xpath //a[@href='/browse/boardgame']\n",
      "xpath //a[@href='/browse/boardgame']\n",
      "text /browse/boardgame\n",
      "text /browse/boardgame\n",
      "text /browse/boardgame\n",
      "valid: //a[@href='/browse/boardgame']\n",
      "valid: descendant-or-self::a[@href = '/browse/boardgame']\n",
      "xpath_text_matches Counter({\"//a[@href='/browse/boardgame']\": 1, \"descendant-or-self::a[@href = '/browse/boardgame']\": 1})\n",
      "//a[@href='/browse/boardgame']\n"
     ]
    }
   ],
   "source": [
    "xpath = await aipage.get_xpath('all boardgames link', [require_unique_href], verbose=True)\n",
    "print(xpath)\n",
    "await page.click('xpath='+xpath)\n",
    "await page.wait_for_load_state()"
   ]
  },
  {
   "cell_type": "markdown",
   "source": [
    "## Get the links to individual board games"
   ],
   "metadata": {
    "collapsed": false
   },
   "id": "f01e258d1bf44024"
  },
  {
   "cell_type": "code",
   "execution_count": 15,
   "outputs": [
    {
     "name": "stdout",
     "output_type": "stream",
     "text": [
      "https://boardgamegeek.com/browse/boardgame\n",
      "JSONDecodeError {\n",
      "  \"text\": [\n",
      "    \"Brass: Birmingham\",\n",
      "    \"Pandemic Legacy: Season 1\",\n",
      "    \"Gloomhaven\",\n",
      "    \"Ark Nova\",\n",
      "    \"Twilight Imperium: Fourth Edition\",\n",
      "    \"Dune: Imperium\",\n",
      "    \"Terraforming Mars\",\n",
      "    \"War of the Ring: Second Edition\",\n",
      "    \"Gloomhaven: Jaws of the Lion\",\n",
      "    \"Star Wars: Rebellion\",\n",
      "    \"Spirit Island\",\n",
      "    \"Gaia Project\",\n",
      "    \"Twilight Struggle\",\n",
      "    \"Through the Ages: A New Story of Civilization\",\n",
      "    \"Great Western Trail\",\n",
      "    \"The Castles of Burgundy\",\n",
      "    \"Scythe\",\n",
      "    \"Eclipse: Second Dawn for the Galaxy\",\n",
      "    \"7 Wonders Duel\",\n",
      "    \"Brass: Lancashire\",\n",
      "    \"Nemesis\",\n",
      "    \"Clank! Legacy: Acquisitions Incorporated\",\n",
      "    \"Concordia\",\n",
      "    \"A Feast for Odin\",\n",
      "    \"Wingspan\",\n",
      "    \"Arkham Horror: The Card Game\",\n",
      "    \"Lost Ruins of Arnak\",\n",
      "    \"Terra Mystica\",\n",
      "    \"Great Western Trail: Second Edition\",\n",
      "    \"Root\",\n",
      "    \"Frosthaven\",\n",
      "    \"Orléans\",\n",
      "    \"Too Many Bones\",\n",
      "    \"Mage Knight Board Game\",\n",
      "    \"The Crew: Mission Deep Sea\",\n",
      "    \"Everdell\",\n",
      "    \"Barrage\",\n",
      "    \"Viticulture Essential Edition\",\n",
      "    \"Food Chain Magnate\",\n",
      "    \"Marvel Champions: The Card Game\",\n",
      "    \"Pax Pamir: Second Edition\",\n",
      "    \"Heat: Pedal to the Metal\",\n",
      "    \"Underwater Cities\",\n",
      "    \"Puerto Rico\",\n",
      "    \"Cascadia\",\n",
      "    \"Arkham Horror: The Card Game\",\n",
      "    \"Lost Ruins of Arnak\",\n",
      "    \"Terra Mystica\",\n",
      "    \"Great Western Trail: Second Edition\",\n",
      "    \"Root\",\n",
      "    \"Frosthaven\",\n",
      "    \"Orléans\",\n",
      "    \"Too Many Bones\",\n",
      "    \"Mage Knight Board Game\",\n",
      "    \"The Crew: Mission Deep Sea\",\n",
      "    \"Everdell\",\n",
      "    \"Barrage\",\n",
      "    \"Viticulture Essential Edition\",\n",
      "    \"Food Chain Magnate\",\n",
      "    \"Marvel Champions: The Card Game\",\n",
      "    \"Pax Pamir: Second Edition\",\n",
      "    \"Heat: Pedal to the Metal\",\n",
      "    \"Underwater Cities\",\n",
      "    \"Puerto Rico\",\n",
      "    \"Cascadia\",\n",
      "    \"Arkham Horror: The Card Game\",\n",
      "    \"Lost Ruins of Arnak\",\n",
      "    \"Terra Mystica\",\n",
      "    \"Great Western Trail: Second Edition\",\n",
      "    \"Root\",\n",
      "    \"Frosthaven\",\n",
      "    \"Orléans\",\n",
      "    \"Too Many Bones\",\n",
      "    \"Mage Knight Board Game\",\n",
      "    \"The Crew: Mission Deep Sea\",\n",
      "    \"Everdell\",\n",
      "    \"Barrage\",\n",
      "    \"Viticulture Essential Edition\",\n",
      "    \"Food Chain Magnate\",\n",
      "    \"Marvel Champions: The Card Game\",\n",
      "    \"Pax Pamir: Second Edition\",\n",
      "    \"Heat: Pedal to the Metal\",\n",
      "    \"Underwater Cities\",\n",
      "    \"Puerto Rico\",\n",
      "    \"Cascadia\",\n",
      "    \"Arkham Horror: The Card Game\",\n",
      "    \"Lost Ruins of Arnak\",\n",
      "    \"Terra Mystica\",\n",
      "    \"Great Western Trail: Second Edition\",\n",
      "    \"Root\",\n",
      "    \"Frosthaven\",\n",
      "    \"Orléans\",\n",
      "    \"Too Many Bones\",\n",
      "    \"Mage Knight Board Game\",\n",
      "    \"The Crew: Mission Deep Sea\",\n",
      "    \"Everdell\",\n",
      "    \"Barrage\",\n",
      "    \"Viticulture Essential Edition\",\n",
      "    \"Food Chain Magnate\",\n",
      "    \"Marvel Champions: The Card Game\",\n",
      "    \"Pax Pamir: Second Edition\",\n",
      "    \"Heat: Pedal to the Metal\",\n",
      "    \"Underwater Cities\",\n",
      "    \"Puerto Rico\",\n",
      "    \"Cascadia\",\n",
      "    \"Arkham Horror: The Card Game\",\n",
      "    \"Lost Ruins of Arnak\",\n",
      "    \"Terra Mystica\",\n",
      "    \"Great Western Trail: Second Edition\",\n",
      "    \"Root\",\n",
      "    \"Frosthaven\",\n",
      "    \"Orléans\",\n",
      "    \"Too Many Bones\",\n",
      "    \"Mage Knight Board Game\",\n",
      "    \"The Crew: Mission Deep Sea\",\n",
      "    \"Everdell\",\n",
      "    \"Barrage\",\n",
      "    \"Viticulture Essential Edition\",\n",
      "    \"Food Chain Magnate\",\n",
      "    \"Marvel Champions: The Card Game\",\n",
      "    \"Pax Pamir: Second Edition\",\n",
      "    \"Heat: Pedal to the Metal\",\n",
      "    \"Underwater Cities\",\n",
      "    \"Puerto Rico\",\n",
      "    \"Cascadia\",\n",
      "    \"Arkham Horror: The Card Game\",\n",
      "    \"Lost Ruins of Arnak\",\n",
      "    \"Terra Mystica\",\n",
      "    \"Great Western Trail: Second Edition\",\n",
      "    \"Root\",\n",
      "    \"Frosthaven\",\n",
      "    \"Orléans\",\n",
      "    \"Too Many Bones\",\n",
      "    \"Mage Knight Board Game\",\n",
      "    \"The Crew: Mission Deep Sea\",\n",
      "    \"Everdell\",\n",
      "    \"B\n",
      "responses [{'selector': 'div.collection_objectname a.primary'}, {'selector': \"a.primary[href^='/boardgame/']\"}, {'selector': 'div.collection_objectname a.primary'}, {'xpath': \"//div[@id='results_objectname1']/a\"}, {'xpath': \"//div[@id='results_objectname1']/a[@class='primary']\"}, {'xpath': \"//div[@id='results_objectname1']/a\"}, {'text': ['Brass: Birmingham', 'Pandemic Legacy: Season 1', 'Gloomhaven', 'Ark Nova', 'Twilight Imperium: Fourth Edition', 'Dune: Imperium', 'Terraforming Mars', 'War of the Ring: Second Edition', 'Gloomhaven: Jaws of the Lion', 'Star Wars: Rebellion', 'Spirit Island', 'Gaia Project', 'Twilight Struggle', 'Through the Ages: A New Story of Civilization', 'Great Western Trail', 'The Castles of Burgundy', 'Scythe', 'Eclipse: Second Dawn for the Galaxy', '7 Wonders Duel', 'Brass: Lancashire', 'Nemesis', 'Clank! Legacy: Acquisitions Incorporated', 'Concordia', 'A Feast for Odin', 'Wingspan', 'Arkham Horror: The Card Game', 'Lost Ruins of Arnak', 'Terra Mystica', 'Great Western Trail: Second Edition', 'Root', 'Frosthaven', 'Orléans', 'Too Many Bones', 'Mage Knight Board Game', 'The Crew: Mission Deep Sea', 'Everdell', 'Barrage', 'Viticulture Essential Edition', 'Food Chain Magnate', 'Marvel Champions: The Card Game', 'Pax Pamir: Second Edition', 'Heat: Pedal to the Metal', 'Underwater Cities', 'Puerto Rico', 'Cascadia', 'Arkham Horror: The Card Game', 'Lost Ruins of Arnak', 'Terra Mystica', 'Great Western Trail: Second Edition', 'Root', 'Frosthaven', 'Orléans', 'Too Many Bones', 'Mage Knight Board Game', 'The Crew: Mission Deep Sea', 'Everdell', 'Barrage', 'Viticulture Essential Edition', 'Food Chain Magnate', 'Marvel Champions: The Card Game', 'Pax Pamir: Second Edition', 'Heat: Pedal to the Metal', 'Underwater Cities', 'Puerto Rico', 'Cascadia', 'Arkham Horror: The Card Game', 'Lost Ruins of Arnak', 'Terra Mystica', 'Great Western Trail: Second Edition', 'Root', 'Frosthaven', 'Orléans', 'Too Many Bones', 'Mage Knight Board Game', 'The Crew: Mission Deep Sea', 'Everdell', 'Barrage', 'Viticulture Essential Edition', 'Food Chain Magnate', 'Marvel Champions: The Card Game', 'Pax Pamir: Second Edition', 'Heat: Pedal to the Metal', 'Underwater Cities', 'Puerto Rico', 'Cascadia', 'Arkham Horror: The Card Game']}, {}, {'text': ['Brass: Birmingham', 'Pandemic Legacy: Season 1', 'Gloomhaven', 'Ark Nova', 'Twilight Imperium: Fourth Edition', 'Dune: Imperium', 'Terraforming Mars', 'War of the Ring: Second Edition', 'Gloomhaven: Jaws of the Lion', 'Star Wars: Rebellion', 'Spirit Island', 'Gaia Project', 'Twilight Struggle', 'Through the Ages: A New Story of Civilization', 'Great Western Trail', 'The Castles of Burgundy', 'Scythe', 'Eclipse: Second Dawn for the Galaxy', '7 Wonders Duel', 'Brass: Lancashire', 'Nemesis', 'Clank! Legacy: Acquisitions Incorporated', 'Concordia', 'A Feast for Odin', 'Wingspan', 'Arkham Horror: The Card Game', 'Lost Ruins of Arnak', 'Terra Mystica', 'Great Western Trail: Second Edition', 'Root', 'Frosthaven', 'Orléans', 'Too Many Bones', 'Mage Knight Board Game', 'The Crew: Mission Deep Sea', 'Everdell', 'Barrage', 'Viticulture Essential Edition', 'Food Chain Magnate', 'Marvel Champions: The Card Game', 'Pax Pamir: Second Edition', 'Heat: Pedal to the Metal', 'Underwater Cities', 'Puerto Rico', 'Cascadia', 'Caverna: The Cave Farmers', 'Crokinole', 'Blood Rage', 'Anachrony', 'On Mars', 'Kanban EV', 'Agricola', 'Pandemic Legacy: Season 0', 'Sleeping Gods', 'Pandemic Legacy: Season 2', 'Mansions of Madness: Second Edition', 'Lisboa', 'Maracaibo', \"Tzolk'in: The Mayan Calendar\", 'Cthulhu: Death May Die', 'Power Grid', 'Obsession', 'The Quacks of Quedlinburg', 'Grand Austria Hotel', 'Clans of Caledonia', 'Le Havre', 'Paladins of the West Kingdom', 'The Gallerist', 'Star Wars: Imperial Assault', 'The Crew: The Quest for Planet Nine', 'Mechs vs. Minions', 'Android: Netrunner', 'Kingdom Death: Monster', 'Azul', 'Agricola (Revised Edition)', 'Oathsworn: Into the Deepwood', 'Race for the Galaxy', 'Five Tribes: The Djinns of Naqala', 'Eclipse: New Dawn for the Galaxy', 'Clank!: A Deck-Building Adventure', \"Aeon's End\", 'Fields of Arle', 'Hegemony: Lead Your Class to Victory', 'Beyond the Sun', 'Teotihuacan: City of Gods', 'Through the Ages: A Story of Civilization', 'Lords of Waterdeep', 'Dominant Species', 'The Voyages of Marco Polo', 'Robinson Crusoe: Adventures on the Cursed Island', '7 Wonders', 'El Grande', 'The Search for Planet X', 'Tainted Grail: The Fall of Avalon', 'Battlestar Galactica: The Board Game', 'Decrypto', 'Architects of the West Kingdom', 'Inis', 'Trickerion: Legends of Illusion', 'Concordia Venus']}]\n",
      "selector descendant-or-self::div[@class and contains(concat(' ', normalize-space(@class), ' '), ' collection_objectname ')]/descendant-or-self::*/a[@class and contains(concat(' ', normalize-space(@class), ' '), ' primary ')]\n",
      "selector descendant-or-self::a[(@class and contains(concat(' ', normalize-space(@class), ' '), ' primary ')) and (@href and starts-with(@href, '/boardgame/'))]\n",
      "selector descendant-or-self::div[@class and contains(concat(' ', normalize-space(@class), ' '), ' collection_objectname ')]/descendant-or-self::*/a[@class and contains(concat(' ', normalize-space(@class), ' '), ' primary ')]\n",
      "xpath //div[@id='results_objectname1']/a\n",
      "xpath //div[@id='results_objectname1']/a[@class='primary']\n",
      "xpath //div[@id='results_objectname1']/a\n",
      "text ['Brass: Birmingham', 'Pandemic Legacy: Season 1', 'Gloomhaven', 'Ark Nova', 'Twilight Imperium: Fourth Edition', 'Dune: Imperium', 'Terraforming Mars', 'War of the Ring: Second Edition', 'Gloomhaven: Jaws of the Lion', 'Star Wars: Rebellion', 'Spirit Island', 'Gaia Project', 'Twilight Struggle', 'Through the Ages: A New Story of Civilization', 'Great Western Trail', 'The Castles of Burgundy', 'Scythe', 'Eclipse: Second Dawn for the Galaxy', '7 Wonders Duel', 'Brass: Lancashire', 'Nemesis', 'Clank! Legacy: Acquisitions Incorporated', 'Concordia', 'A Feast for Odin', 'Wingspan', 'Arkham Horror: The Card Game', 'Lost Ruins of Arnak', 'Terra Mystica', 'Great Western Trail: Second Edition', 'Root', 'Frosthaven', 'Orléans', 'Too Many Bones', 'Mage Knight Board Game', 'The Crew: Mission Deep Sea', 'Everdell', 'Barrage', 'Viticulture Essential Edition', 'Food Chain Magnate', 'Marvel Champions: The Card Game', 'Pax Pamir: Second Edition', 'Heat: Pedal to the Metal', 'Underwater Cities', 'Puerto Rico', 'Cascadia', 'Arkham Horror: The Card Game', 'Lost Ruins of Arnak', 'Terra Mystica', 'Great Western Trail: Second Edition', 'Root', 'Frosthaven', 'Orléans', 'Too Many Bones', 'Mage Knight Board Game', 'The Crew: Mission Deep Sea', 'Everdell', 'Barrage', 'Viticulture Essential Edition', 'Food Chain Magnate', 'Marvel Champions: The Card Game', 'Pax Pamir: Second Edition', 'Heat: Pedal to the Metal', 'Underwater Cities', 'Puerto Rico', 'Cascadia', 'Arkham Horror: The Card Game', 'Lost Ruins of Arnak', 'Terra Mystica', 'Great Western Trail: Second Edition', 'Root', 'Frosthaven', 'Orléans', 'Too Many Bones', 'Mage Knight Board Game', 'The Crew: Mission Deep Sea', 'Everdell', 'Barrage', 'Viticulture Essential Edition', 'Food Chain Magnate', 'Marvel Champions: The Card Game', 'Pax Pamir: Second Edition', 'Heat: Pedal to the Metal', 'Underwater Cities', 'Puerto Rico', 'Cascadia', 'Arkham Horror: The Card Game']\n",
      "texts xpaths ['/html/body/div[2]/main/div[2]/div/div[1]/div/div/div[2]/div[3]/table/tbody/tr[2]/td[3]/div[2]/a', '/html/body/div[2]/main/div[2]/div/div[1]/div/div/div[2]/div[3]/table/tbody/tr[49]/td/div/ul/li[3]/div/h3/a', '/html/body/div[2]/main/div[2]/div/div[1]/div/div/div[2]/div[3]/table/tbody/tr[3]/td[3]/div[2]/a', '/html/body/div[2]/main/div[2]/div/div[1]/div/div/div[2]/div[3]/table/tbody/tr[4]/td[3]/div[2]/a', '/html/body/div[2]/div/header/nav/div/div[2]/div/div[1]/geekoutput-sidebar/div/div[2]/div/hotness-module/ul/li[11]/a/div[2]/div[1]', '/html/body/div[2]/main/div[2]/geekoutput-sidebar/div/div[2]/div/hotness-module/ul/li[11]/a/div[2]/div[1]', '/html/body/div[2]/main/div[2]/div/div[1]/div/div/div[2]/div[3]/table/tbody/tr[5]/td[3]/div[2]/a', '/html/body/div[2]/main/div[2]/div/div[1]/div/div/div[2]/div[3]/table/tbody/tr[6]/td[3]/div[2]/a', '/html/body/div[2]/main/div[2]/div/div[1]/div/div/div[2]/div[3]/table/tbody/tr[7]/td[3]/div[2]/a', '/html/body/div[2]/main/div[2]/div/div[1]/div/div/div[2]/div[3]/table/tbody/tr[49]/td/div/ul/li[2]/div/h3/a', '/html/body/div[2]/main/div[2]/div/div[1]/div/div/div[2]/div[3]/table/tbody/tr[8]/td[3]/div[2]/a', '/html/body/div[2]/main/div[2]/div/div[1]/div/div/div[2]/div[3]/table/tbody/tr[9]/td[3]/div[2]/a', '/html/body/div[2]/main/div[2]/div/div[1]/div/div/div[2]/div[3]/table/tbody/tr[10]/td[3]/div[2]/a', '/html/body/div[2]/main/div[2]/div/div[1]/div/div/div[2]/div[3]/table/tbody/tr[11]/td[3]/div[2]/a', '/html/body/div[2]/main/div[2]/div/div[1]/div/div/div[2]/div[3]/table/tbody/tr[12]/td[3]/div[2]/a', '/html/body/div[2]/main/div[2]/div/div[1]/div/div/div[2]/div[3]/table/tbody/tr[13]/td[3]/div[2]/a', '/html/body/div[2]/main/div[2]/div/div[1]/div/div/div[2]/div[3]/table/tbody/tr[14]/td[3]/div[2]/a', '/html/body/div[2]/main/div[2]/div/div[1]/div/div/div[2]/div[3]/table/tbody/tr[15]/td[3]/div[2]/a', '/html/body/div[2]/main/div[2]/div/div[1]/div/div/div[2]/div[3]/table/tbody/tr[16]/td[3]/div[2]/a', '/html/body/div[2]/main/div[2]/div/div[1]/div/div/div[2]/div[3]/table/tbody/tr[18]/td[3]/div[2]/a', '/html/body/div[2]/main/div[2]/div/div[1]/div/div/div[2]/div[3]/table/tbody/tr[19]/td[3]/div[2]/a', '/html/body/div[2]/main/div[2]/div/div[1]/div/div/div[2]/div[3]/table/tbody/tr[20]/td[3]/div[2]/a', '/html/body/div[2]/main/div[2]/div/div[1]/div/div/div[2]/div[3]/table/tbody/tr[21]/td[3]/div[2]/a', '/html/body/div[2]/main/div[2]/div/div[1]/div/div/div[2]/div[3]/table/tbody/tr[22]/td[3]/div[2]/a', '/html/body/div[2]/main/div[2]/div/div[1]/div/div/div[2]/div[3]/table/tbody/tr[23]/td[3]/div[2]/a', '/html/body/div[2]/main/div[2]/div/div[1]/div/div/div[2]/div[3]/table/tbody/tr[24]/td[3]/div[2]/a', '/html/body/div[2]/main/div[2]/div/div[1]/div/div/div[2]/div[3]/table/tbody/tr[25]/td[3]/div[2]/a', '/html/body/div[2]/main/div[2]/div/div[1]/div/div/div[2]/div[3]/table/tbody/tr[26]/td[3]/div[2]/a', '/html/body/div[2]/main/div[2]/div/div[1]/div/div/div[2]/div[3]/table/tbody/tr[27]/td[3]/div[2]/a', '/html/body/div[2]/main/div[2]/div/div[1]/div/div/div[2]/div[3]/table/tbody/tr[28]/td[3]/div[2]/a', '/html/body/div[2]/main/div[2]/div/div[1]/div/div/div[2]/div[3]/table/tbody/tr[29]/td[3]/div[2]/a', '/html/body/div[2]/main/div[2]/div/div[1]/div/div/div[2]/div[3]/table/tbody/tr[30]/td[3]/div[2]/a', '/html/body/div[2]/main/div[2]/div/div[1]/div/div/div[2]/div[3]/table/tbody/tr[31]/td[3]/div[2]/a', '/html/body/div[2]/main/div[2]/div/div[1]/div/div/div[2]/div[3]/table/tbody/tr[32]/td[3]/div[2]/a', '/html/body/div[2]/main/div[2]/div/div[1]/div/div/div[2]/div[3]/table/tbody/tr[34]/td[3]/div[2]/a', '/html/body/div[2]/main/div[2]/div/div[1]/div/div/div[2]/div[3]/table/tbody/tr[35]/td[3]/div[2]/a', '/html/body/div[2]/main/div[2]/div/div[1]/div/div/div[2]/div[3]/table/tbody/tr[36]/td[3]/div[2]/a', '/html/body/div[2]/main/div[2]/div/div[1]/div/div/div[2]/div[3]/table/tbody/tr[37]/td[3]/div[2]/a', '/html/body/div[2]/main/div[2]/div/div[1]/div/div/div[2]/div[3]/table/tbody/tr[38]/td[3]/div[2]/a', '/html/body/div[2]/main/div[2]/div/div[1]/div/div/div[2]/div[3]/table/tbody/tr[39]/td[3]/div[2]/a', '/html/body/div[2]/main/div[2]/div/div[1]/div/div/div[2]/div[3]/table/tbody/tr[40]/td[3]/div[2]/a', '/html/body/div[2]/main/div[2]/div/div[1]/div/div/div[2]/div[3]/table/tbody/tr[41]/td[3]/div[2]/a', '/html/body/div[2]/main/div[2]/div/div[1]/div/div/div[2]/div[3]/table/tbody/tr[42]/td[3]/div[2]/a', '/html/body/div[2]/main/div[2]/div/div[1]/div/div/div[2]/div[3]/table/tbody/tr[43]/td[3]/div[2]/a', '/html/body/div[2]/main/div[2]/div/div[1]/div/div/div[2]/div[3]/table/tbody/tr[44]/td[3]/div[2]/a', '/html/body/div[2]/main/div[2]/div/div[1]/div/div/div[2]/div[3]/table/tbody/tr[45]/td[3]/div[2]/a', '/html/body/div[2]/main/div[2]/div/div[1]/div/div/div[2]/div[3]/table/tbody/tr[81]/td/div/ul/li[1]/div/h3/a', '/html/body/div[2]/main/div[2]/div/div[1]/div/div/div[2]/div[3]/table/tbody/tr[46]/td[3]/div[2]/a', '/html/body/div[2]/main/div[2]/div/div[1]/div/div/div[2]/div[3]/table/tbody/tr[47]/td[3]/div[2]/a', '/html/body/div[2]/main/div[2]/div/div[1]/div/div/div[2]/div[3]/table/tbody/tr[48]/td[3]/div[2]/a', '/html/body/div[2]/main/div[2]/div/div[1]/div/div/div[2]/div[3]/table/tbody/tr[28]/td[3]/div[2]/a', '/html/body/div[2]/main/div[2]/div/div[1]/div/div/div[2]/div[3]/table/tbody/tr[29]/td[3]/div[2]/a', '/html/body/div[2]/main/div[2]/div/div[1]/div/div/div[2]/div[3]/table/tbody/tr[30]/td[3]/div[2]/a', '/html/body/div[2]/main/div[2]/div/div[1]/div/div/div[2]/div[3]/table/tbody/tr[31]/td[3]/div[2]/a', '/html/body/div[2]/main/div[2]/div/div[1]/div/div/div[2]/div[3]/table/tbody/tr[32]/td[3]/div[2]/a', '/html/body/div[2]/main/div[2]/div/div[1]/div/div/div[2]/div[3]/table/tbody/tr[34]/td[3]/div[2]/a', '/html/body/div[2]/main/div[2]/div/div[1]/div/div/div[2]/div[3]/table/tbody/tr[35]/td[3]/div[2]/a', '/html/body/div[2]/main/div[2]/div/div[1]/div/div/div[2]/div[3]/table/tbody/tr[36]/td[3]/div[2]/a', '/html/body/div[2]/main/div[2]/div/div[1]/div/div/div[2]/div[3]/table/tbody/tr[37]/td[3]/div[2]/a', '/html/body/div[2]/main/div[2]/div/div[1]/div/div/div[2]/div[3]/table/tbody/tr[38]/td[3]/div[2]/a', '/html/body/div[2]/main/div[2]/div/div[1]/div/div/div[2]/div[3]/table/tbody/tr[39]/td[3]/div[2]/a', '/html/body/div[2]/main/div[2]/div/div[1]/div/div/div[2]/div[3]/table/tbody/tr[40]/td[3]/div[2]/a', '/html/body/div[2]/main/div[2]/div/div[1]/div/div/div[2]/div[3]/table/tbody/tr[41]/td[3]/div[2]/a', '/html/body/div[2]/main/div[2]/div/div[1]/div/div/div[2]/div[3]/table/tbody/tr[42]/td[3]/div[2]/a', '/html/body/div[2]/main/div[2]/div/div[1]/div/div/div[2]/div[3]/table/tbody/tr[43]/td[3]/div[2]/a', '/html/body/div[2]/main/div[2]/div/div[1]/div/div/div[2]/div[3]/table/tbody/tr[44]/td[3]/div[2]/a', '/html/body/div[2]/main/div[2]/div/div[1]/div/div/div[2]/div[3]/table/tbody/tr[45]/td[3]/div[2]/a', '/html/body/div[2]/main/div[2]/div/div[1]/div/div/div[2]/div[3]/table/tbody/tr[81]/td/div/ul/li[1]/div/h3/a', '/html/body/div[2]/main/div[2]/div/div[1]/div/div/div[2]/div[3]/table/tbody/tr[46]/td[3]/div[2]/a', '/html/body/div[2]/main/div[2]/div/div[1]/div/div/div[2]/div[3]/table/tbody/tr[47]/td[3]/div[2]/a', '/html/body/div[2]/main/div[2]/div/div[1]/div/div/div[2]/div[3]/table/tbody/tr[48]/td[3]/div[2]/a', '/html/body/div[2]/main/div[2]/div/div[1]/div/div/div[2]/div[3]/table/tbody/tr[28]/td[3]/div[2]/a', '/html/body/div[2]/main/div[2]/div/div[1]/div/div/div[2]/div[3]/table/tbody/tr[29]/td[3]/div[2]/a', '/html/body/div[2]/main/div[2]/div/div[1]/div/div/div[2]/div[3]/table/tbody/tr[30]/td[3]/div[2]/a', '/html/body/div[2]/main/div[2]/div/div[1]/div/div/div[2]/div[3]/table/tbody/tr[31]/td[3]/div[2]/a', '/html/body/div[2]/main/div[2]/div/div[1]/div/div/div[2]/div[3]/table/tbody/tr[32]/td[3]/div[2]/a', '/html/body/div[2]/main/div[2]/div/div[1]/div/div/div[2]/div[3]/table/tbody/tr[34]/td[3]/div[2]/a', '/html/body/div[2]/main/div[2]/div/div[1]/div/div/div[2]/div[3]/table/tbody/tr[35]/td[3]/div[2]/a', '/html/body/div[2]/main/div[2]/div/div[1]/div/div/div[2]/div[3]/table/tbody/tr[36]/td[3]/div[2]/a', '/html/body/div[2]/main/div[2]/div/div[1]/div/div/div[2]/div[3]/table/tbody/tr[37]/td[3]/div[2]/a', '/html/body/div[2]/main/div[2]/div/div[1]/div/div/div[2]/div[3]/table/tbody/tr[38]/td[3]/div[2]/a', '/html/body/div[2]/main/div[2]/div/div[1]/div/div/div[2]/div[3]/table/tbody/tr[39]/td[3]/div[2]/a', '/html/body/div[2]/main/div[2]/div/div[1]/div/div/div[2]/div[3]/table/tbody/tr[40]/td[3]/div[2]/a', '/html/body/div[2]/main/div[2]/div/div[1]/div/div/div[2]/div[3]/table/tbody/tr[41]/td[3]/div[2]/a', '/html/body/div[2]/main/div[2]/div/div[1]/div/div/div[2]/div[3]/table/tbody/tr[42]/td[3]/div[2]/a', '/html/body/div[2]/main/div[2]/div/div[1]/div/div/div[2]/div[3]/table/tbody/tr[43]/td[3]/div[2]/a', '/html/body/div[2]/main/div[2]/div/div[1]/div/div/div[2]/div[3]/table/tbody/tr[44]/td[3]/div[2]/a', '/html/body/div[2]/main/div[2]/div/div[1]/div/div/div[2]/div[3]/table/tbody/tr[45]/td[3]/div[2]/a', '/html/body/div[2]/main/div[2]/div/div[1]/div/div/div[2]/div[3]/table/tbody/tr[81]/td/div/ul/li[1]/div/h3/a', '/html/body/div[2]/main/div[2]/div/div[1]/div/div/div[2]/div[3]/table/tbody/tr[46]/td[3]/div[2]/a', '/html/body/div[2]/main/div[2]/div/div[1]/div/div/div[2]/div[3]/table/tbody/tr[47]/td[3]/div[2]/a', '/html/body/div[2]/main/div[2]/div/div[1]/div/div/div[2]/div[3]/table/tbody/tr[48]/td[3]/div[2]/a', '/html/body/div[2]/main/div[2]/div/div[1]/div/div/div[2]/div[3]/table/tbody/tr[28]/td[3]/div[2]/a']\n",
      "texts generalized xpaths ['/html/body/div[2]/main/div[2]/div/div[1]/div/div/div[2]/div[3]/table/tbody/tr/td[3]/div[2]/a', '/html/body/div[2]/main/div[2]/div/div[1]/div/div/div[2]/div[3]/table/tbody/tr/td/div/ul/li/div/h3/a', '/html/body/div[2]/div/header/nav/div/div[2]/div/div[1]/geekoutput-sidebar/div/div[2]/div/hotness-module/ul/li[11]/a/div[2]/div[1]', '/html/body/div[2]/main/div[2]/geekoutput-sidebar/div/div[2]/div/hotness-module/ul/li[11]/a/div[2]/div[1]']\n",
      "text ['Brass: Birmingham', 'Pandemic Legacy: Season 1', 'Gloomhaven', 'Ark Nova', 'Twilight Imperium: Fourth Edition', 'Dune: Imperium', 'Terraforming Mars', 'War of the Ring: Second Edition', 'Gloomhaven: Jaws of the Lion', 'Star Wars: Rebellion', 'Spirit Island', 'Gaia Project', 'Twilight Struggle', 'Through the Ages: A New Story of Civilization', 'Great Western Trail', 'The Castles of Burgundy', 'Scythe', 'Eclipse: Second Dawn for the Galaxy', '7 Wonders Duel', 'Brass: Lancashire', 'Nemesis', 'Clank! Legacy: Acquisitions Incorporated', 'Concordia', 'A Feast for Odin', 'Wingspan', 'Arkham Horror: The Card Game', 'Lost Ruins of Arnak', 'Terra Mystica', 'Great Western Trail: Second Edition', 'Root', 'Frosthaven', 'Orléans', 'Too Many Bones', 'Mage Knight Board Game', 'The Crew: Mission Deep Sea', 'Everdell', 'Barrage', 'Viticulture Essential Edition', 'Food Chain Magnate', 'Marvel Champions: The Card Game', 'Pax Pamir: Second Edition', 'Heat: Pedal to the Metal', 'Underwater Cities', 'Puerto Rico', 'Cascadia', 'Caverna: The Cave Farmers', 'Crokinole', 'Blood Rage', 'Anachrony', 'On Mars', 'Kanban EV', 'Agricola', 'Pandemic Legacy: Season 0', 'Sleeping Gods', 'Pandemic Legacy: Season 2', 'Mansions of Madness: Second Edition', 'Lisboa', 'Maracaibo', \"Tzolk'in: The Mayan Calendar\", 'Cthulhu: Death May Die', 'Power Grid', 'Obsession', 'The Quacks of Quedlinburg', 'Grand Austria Hotel', 'Clans of Caledonia', 'Le Havre', 'Paladins of the West Kingdom', 'The Gallerist', 'Star Wars: Imperial Assault', 'The Crew: The Quest for Planet Nine', 'Mechs vs. Minions', 'Android: Netrunner', 'Kingdom Death: Monster', 'Azul', 'Agricola (Revised Edition)', 'Oathsworn: Into the Deepwood', 'Race for the Galaxy', 'Five Tribes: The Djinns of Naqala', 'Eclipse: New Dawn for the Galaxy', 'Clank!: A Deck-Building Adventure', \"Aeon's End\", 'Fields of Arle', 'Hegemony: Lead Your Class to Victory', 'Beyond the Sun', 'Teotihuacan: City of Gods', 'Through the Ages: A Story of Civilization', 'Lords of Waterdeep', 'Dominant Species', 'The Voyages of Marco Polo', 'Robinson Crusoe: Adventures on the Cursed Island', '7 Wonders', 'El Grande', 'The Search for Planet X', 'Tainted Grail: The Fall of Avalon', 'Battlestar Galactica: The Board Game', 'Decrypto', 'Architects of the West Kingdom', 'Inis', 'Trickerion: Legends of Illusion', 'Concordia Venus']\n",
      "texts xpaths ['/html/body/div[2]/main/div[2]/div/div[1]/div/div/div[2]/div[3]/table/tbody/tr[2]/td[3]/div[2]/a', '/html/body/div[2]/main/div[2]/div/div[1]/div/div/div[2]/div[3]/table/tbody/tr[49]/td/div/ul/li[3]/div/h3/a', '/html/body/div[2]/main/div[2]/div/div[1]/div/div/div[2]/div[3]/table/tbody/tr[3]/td[3]/div[2]/a', '/html/body/div[2]/main/div[2]/div/div[1]/div/div/div[2]/div[3]/table/tbody/tr[4]/td[3]/div[2]/a', '/html/body/div[2]/div/header/nav/div/div[2]/div/div[1]/geekoutput-sidebar/div/div[2]/div/hotness-module/ul/li[11]/a/div[2]/div[1]', '/html/body/div[2]/main/div[2]/geekoutput-sidebar/div/div[2]/div/hotness-module/ul/li[11]/a/div[2]/div[1]', '/html/body/div[2]/main/div[2]/div/div[1]/div/div/div[2]/div[3]/table/tbody/tr[5]/td[3]/div[2]/a', '/html/body/div[2]/main/div[2]/div/div[1]/div/div/div[2]/div[3]/table/tbody/tr[6]/td[3]/div[2]/a', '/html/body/div[2]/main/div[2]/div/div[1]/div/div/div[2]/div[3]/table/tbody/tr[7]/td[3]/div[2]/a', '/html/body/div[2]/main/div[2]/div/div[1]/div/div/div[2]/div[3]/table/tbody/tr[49]/td/div/ul/li[2]/div/h3/a', '/html/body/div[2]/main/div[2]/div/div[1]/div/div/div[2]/div[3]/table/tbody/tr[8]/td[3]/div[2]/a', '/html/body/div[2]/main/div[2]/div/div[1]/div/div/div[2]/div[3]/table/tbody/tr[9]/td[3]/div[2]/a', '/html/body/div[2]/main/div[2]/div/div[1]/div/div/div[2]/div[3]/table/tbody/tr[10]/td[3]/div[2]/a', '/html/body/div[2]/main/div[2]/div/div[1]/div/div/div[2]/div[3]/table/tbody/tr[11]/td[3]/div[2]/a', '/html/body/div[2]/main/div[2]/div/div[1]/div/div/div[2]/div[3]/table/tbody/tr[12]/td[3]/div[2]/a', '/html/body/div[2]/main/div[2]/div/div[1]/div/div/div[2]/div[3]/table/tbody/tr[13]/td[3]/div[2]/a', '/html/body/div[2]/main/div[2]/div/div[1]/div/div/div[2]/div[3]/table/tbody/tr[14]/td[3]/div[2]/a', '/html/body/div[2]/main/div[2]/div/div[1]/div/div/div[2]/div[3]/table/tbody/tr[15]/td[3]/div[2]/a', '/html/body/div[2]/main/div[2]/div/div[1]/div/div/div[2]/div[3]/table/tbody/tr[16]/td[3]/div[2]/a', '/html/body/div[2]/main/div[2]/div/div[1]/div/div/div[2]/div[3]/table/tbody/tr[18]/td[3]/div[2]/a', '/html/body/div[2]/main/div[2]/div/div[1]/div/div/div[2]/div[3]/table/tbody/tr[19]/td[3]/div[2]/a', '/html/body/div[2]/main/div[2]/div/div[1]/div/div/div[2]/div[3]/table/tbody/tr[20]/td[3]/div[2]/a', '/html/body/div[2]/main/div[2]/div/div[1]/div/div/div[2]/div[3]/table/tbody/tr[21]/td[3]/div[2]/a', '/html/body/div[2]/main/div[2]/div/div[1]/div/div/div[2]/div[3]/table/tbody/tr[22]/td[3]/div[2]/a', '/html/body/div[2]/main/div[2]/div/div[1]/div/div/div[2]/div[3]/table/tbody/tr[23]/td[3]/div[2]/a', '/html/body/div[2]/main/div[2]/div/div[1]/div/div/div[2]/div[3]/table/tbody/tr[24]/td[3]/div[2]/a', '/html/body/div[2]/main/div[2]/div/div[1]/div/div/div[2]/div[3]/table/tbody/tr[25]/td[3]/div[2]/a', '/html/body/div[2]/main/div[2]/div/div[1]/div/div/div[2]/div[3]/table/tbody/tr[26]/td[3]/div[2]/a', '/html/body/div[2]/main/div[2]/div/div[1]/div/div/div[2]/div[3]/table/tbody/tr[27]/td[3]/div[2]/a', '/html/body/div[2]/main/div[2]/div/div[1]/div/div/div[2]/div[3]/table/tbody/tr[28]/td[3]/div[2]/a', '/html/body/div[2]/main/div[2]/div/div[1]/div/div/div[2]/div[3]/table/tbody/tr[29]/td[3]/div[2]/a', '/html/body/div[2]/main/div[2]/div/div[1]/div/div/div[2]/div[3]/table/tbody/tr[30]/td[3]/div[2]/a', '/html/body/div[2]/main/div[2]/div/div[1]/div/div/div[2]/div[3]/table/tbody/tr[31]/td[3]/div[2]/a', '/html/body/div[2]/main/div[2]/div/div[1]/div/div/div[2]/div[3]/table/tbody/tr[32]/td[3]/div[2]/a', '/html/body/div[2]/main/div[2]/div/div[1]/div/div/div[2]/div[3]/table/tbody/tr[34]/td[3]/div[2]/a', '/html/body/div[2]/main/div[2]/div/div[1]/div/div/div[2]/div[3]/table/tbody/tr[35]/td[3]/div[2]/a', '/html/body/div[2]/main/div[2]/div/div[1]/div/div/div[2]/div[3]/table/tbody/tr[36]/td[3]/div[2]/a', '/html/body/div[2]/main/div[2]/div/div[1]/div/div/div[2]/div[3]/table/tbody/tr[37]/td[3]/div[2]/a', '/html/body/div[2]/main/div[2]/div/div[1]/div/div/div[2]/div[3]/table/tbody/tr[38]/td[3]/div[2]/a', '/html/body/div[2]/main/div[2]/div/div[1]/div/div/div[2]/div[3]/table/tbody/tr[39]/td[3]/div[2]/a', '/html/body/div[2]/main/div[2]/div/div[1]/div/div/div[2]/div[3]/table/tbody/tr[40]/td[3]/div[2]/a', '/html/body/div[2]/main/div[2]/div/div[1]/div/div/div[2]/div[3]/table/tbody/tr[41]/td[3]/div[2]/a', '/html/body/div[2]/main/div[2]/div/div[1]/div/div/div[2]/div[3]/table/tbody/tr[42]/td[3]/div[2]/a', '/html/body/div[2]/main/div[2]/div/div[1]/div/div/div[2]/div[3]/table/tbody/tr[43]/td[3]/div[2]/a', '/html/body/div[2]/main/div[2]/div/div[1]/div/div/div[2]/div[3]/table/tbody/tr[44]/td[3]/div[2]/a', '/html/body/div[2]/main/div[2]/div/div[1]/div/div/div[2]/div[3]/table/tbody/tr[45]/td[3]/div[2]/a', '/html/body/div[2]/main/div[2]/div/div[1]/div/div/div[2]/div[3]/table/tbody/tr[81]/td/div/ul/li[1]/div/h3/a', '/html/body/div[2]/main/div[2]/div/div[1]/div/div/div[2]/div[3]/table/tbody/tr[46]/td[3]/div[2]/a', '/html/body/div[2]/main/div[2]/div/div[1]/div/div/div[2]/div[3]/table/tbody/tr[47]/td[3]/div[2]/a', '/html/body/div[2]/main/div[2]/div/div[1]/div/div/div[2]/div[3]/table/tbody/tr[48]/td[3]/div[2]/a', '/html/body/div[2]/main/div[2]/div/div[1]/div/div/div[2]/div[3]/table/tbody/tr[50]/td[3]/div[2]/a', '/html/body/div[2]/main/div[2]/div/div[1]/div/div/div[2]/div[3]/table/tbody/tr[51]/td[3]/div[2]/a', '/html/body/div[2]/main/div[2]/div/div[1]/div/div/div[2]/div[3]/table/tbody/tr[52]/td[3]/div[2]/a', '/html/body/div[2]/main/div[2]/div/div[1]/div/div/div[2]/div[3]/table/tbody/tr[53]/td[3]/div[2]/a', '/html/body/div[2]/main/div[2]/div/div[1]/div/div/div[2]/div[3]/table/tbody/tr[54]/td[3]/div[2]/a', '/html/body/div[2]/main/div[2]/div/div[1]/div/div/div[2]/div[3]/table/tbody/tr[55]/td[3]/div[2]/a', '/html/body/div[2]/main/div[2]/div/div[1]/div/div/div[2]/div[3]/table/tbody/tr[56]/td[3]/div[2]/a', '/html/body/div[2]/main/div[2]/div/div[1]/div/div/div[2]/div[3]/table/tbody/tr[57]/td[3]/div[2]/a', '/html/body/div[2]/main/div[2]/div/div[1]/div/div/div[2]/div[3]/table/tbody/tr[58]/td[3]/div[2]/a', '/html/body/div[2]/main/div[2]/div/div[1]/div/div/div[2]/div[3]/table/tbody/tr[59]/td[3]/div[2]/a', '/html/body/div[2]/main/div[2]/div/div[1]/div/div/div[2]/div[3]/table/tbody/tr[60]/td[3]/div[2]/a', '/html/body/div[2]/main/div[2]/div/div[1]/div/div/div[2]/div[3]/table/tbody/tr[61]/td[3]/div[2]/a', '/html/body/div[2]/main/div[2]/div/div[1]/div/div/div[2]/div[3]/table/tbody/tr[62]/td[3]/div[2]/a', '/html/body/div[2]/main/div[2]/div/div[1]/div/div/div[2]/div[3]/table/tbody/tr[63]/td[3]/div[2]/a', '/html/body/div[2]/main/div[2]/div/div[1]/div/div/div[2]/div[3]/table/tbody/tr[64]/td[3]/div[2]/a', '/html/body/div[2]/main/div[2]/div/div[1]/div/div/div[2]/div[3]/table/tbody/tr[66]/td[3]/div[2]/a', '/html/body/div[2]/main/div[2]/div/div[1]/div/div/div[2]/div[3]/table/tbody/tr[67]/td[3]/div[2]/a', '/html/body/div[2]/main/div[2]/div/div[1]/div/div/div[2]/div[3]/table/tbody/tr[68]/td[3]/div[2]/a', '/html/body/div[2]/main/div[2]/div/div[1]/div/div/div[2]/div[3]/table/tbody/tr[69]/td[3]/div[2]/a', '/html/body/div[2]/main/div[2]/div/div[1]/div/div/div[2]/div[3]/table/tbody/tr[70]/td[3]/div[2]/a', '/html/body/div[2]/main/div[2]/div/div[1]/div/div/div[2]/div[3]/table/tbody/tr[71]/td[3]/div[2]/a', '/html/body/div[2]/main/div[2]/div/div[1]/div/div/div[2]/div[3]/table/tbody/tr[72]/td[3]/div[2]/a', '/html/body/div[2]/main/div[2]/div/div[1]/div/div/div[2]/div[3]/table/tbody/tr[73]/td[3]/div[2]/a', '/html/body/div[2]/main/div[2]/div/div[1]/div/div/div[2]/div[3]/table/tbody/tr[74]/td[3]/div[2]/a', '/html/body/div[2]/main/div[2]/div/div[1]/div/div/div[2]/div[3]/table/tbody/tr[75]/td[3]/div[2]/a', '/html/body/div[2]/main/div[2]/div/div[1]/div/div/div[2]/div[3]/table/tbody/tr[76]/td[3]/div[2]/a', '/html/body/div[2]/main/div[2]/div/div[1]/div/div/div[2]/div[3]/table/tbody/tr[77]/td[3]/div[2]/a', '/html/body/div[2]/main/div[2]/div/div[1]/div/div/div[2]/div[3]/table/tbody/tr[78]/td[3]/div[2]/a', '/html/body/div[2]/main/div[2]/div/div[1]/div/div/div[2]/div[3]/table/tbody/tr[79]/td[3]/div[2]/a', '/html/body/div[2]/main/div[2]/div/div[1]/div/div/div[2]/div[3]/table/tbody/tr[80]/td[3]/div[2]/a', '/html/body/div[2]/main/div[2]/div/div[1]/div/div/div[2]/div[3]/table/tbody/tr[82]/td[3]/div[2]/a', '/html/body/div[2]/main/div[2]/div/div[1]/div/div/div[2]/div[3]/table/tbody/tr[83]/td[3]/div[2]/a', '/html/body/div[2]/main/div[2]/div/div[1]/div/div/div[2]/div[3]/table/tbody/tr[84]/td[3]/div[2]/a', '/html/body/div[2]/main/div[2]/div/div[1]/div/div/div[2]/div[3]/table/tbody/tr[85]/td[3]/div[2]/a', '/html/body/div[2]/main/div[2]/div/div[1]/div/div/div[2]/div[3]/table/tbody/tr[86]/td[3]/div[2]/a', '/html/body/div[2]/main/div[2]/div/div[1]/div/div/div[2]/div[3]/table/tbody/tr[87]/td[3]/div[2]/a', '/html/body/div[2]/main/div[2]/div/div[1]/div/div/div[2]/div[3]/table/tbody/tr[88]/td[3]/div[2]/a', '/html/body/div[2]/main/div[2]/div/div[1]/div/div/div[2]/div[3]/table/tbody/tr[89]/td[3]/div[2]/a', '/html/body/div[2]/main/div[2]/div/div[1]/div/div/div[2]/div[3]/table/tbody/tr[90]/td[3]/div[2]/a', '/html/body/div[2]/main/div[2]/div/div[1]/div/div/div[2]/div[3]/table/tbody/tr[91]/td[3]/div[2]/a', '/html/body/div[2]/main/div[2]/div/div[1]/div/div/div[2]/div[3]/table/tbody/tr[92]/td[3]/div[2]/a', '/html/body/div[2]/main/div[2]/div/div[1]/div/div/div[2]/div[3]/table/tbody/tr[93]/td[3]/div[2]/a', '/html/body/div[2]/main/div[2]/div/div[1]/div/div/div[2]/div[3]/table/tbody/tr[94]/td[3]/div[2]/a', '/html/body/div[2]/main/div[2]/div/div[1]/div/div/div[2]/div[3]/table/tbody/tr[95]/td[3]/div[2]/a', '/html/body/div[2]/main/div[2]/div/div[1]/div/div/div[2]/div[3]/table/tbody/tr[96]/td[3]/div[2]/a', '/html/body/div[2]/main/div[2]/div/div[1]/div/div/div[2]/div[3]/table/tbody/tr[98]/td[3]/div[2]/a', '/html/body/div[2]/main/div[2]/div/div[1]/div/div/div[2]/div[3]/table/tbody/tr[99]/td[3]/div[2]/a', '/html/body/div[2]/main/div[2]/div/div[1]/div/div/div[2]/div[3]/table/tbody/tr[100]/td[3]/div[2]/a', '/html/body/div[2]/main/div[2]/div/div[1]/div/div/div[2]/div[3]/table/tbody/tr[101]/td[3]/div[2]/a', '/html/body/div[2]/main/div[2]/div/div[1]/div/div/div[2]/div[3]/table/tbody/tr[102]/td[3]/div[2]/a', '/html/body/div[2]/main/div[2]/div/div[1]/div/div/div[2]/div[3]/table/tbody/tr[103]/td[3]/div[2]/a', '/html/body/div[2]/main/div[2]/div/div[1]/div/div/div[2]/div[3]/table/tbody/tr[104]/td[3]/div[2]/a', '/html/body/div[2]/main/div[2]/div/div[1]/div/div/div[2]/div[3]/table/tbody/tr[105]/td[3]/div[2]/a', '/html/body/div[2]/main/div[2]/div/div[1]/div/div/div[2]/div[3]/table/tbody/tr[106]/td[3]/div[2]/a', '/html/body/div[2]/main/div[2]/div/div[1]/div/div/div[2]/div[3]/table/tbody/tr[107]/td[3]/div[2]/a']\n",
      "texts generalized xpaths ['/html/body/div[2]/main/div[2]/div/div[1]/div/div/div[2]/div[3]/table/tbody/tr/td[3]/div[2]/a', '/html/body/div[2]/main/div[2]/div/div[1]/div/div/div[2]/div[3]/table/tbody/tr/td/div/ul/li/div/h3/a', '/html/body/div[2]/div/header/nav/div/div[2]/div/div[1]/geekoutput-sidebar/div/div[2]/div/hotness-module/ul/li[11]/a/div[2]/div[1]', '/html/body/div[2]/main/div[2]/geekoutput-sidebar/div/div[2]/div/hotness-module/ul/li[11]/a/div[2]/div[1]']\n",
      "valid: /html/body/div[2]/main/div[2]/div/div[1]/div/div/div[2]/div[3]/table/tbody/tr/td[3]/div[2]/a\n",
      "invalid: /html/body/div[2]/div/header/nav/div/div[2]/div/div[1]/geekoutput-sidebar/div/div[2]/div/hotness-module/ul/li[11]/a/div[2]/div[1]\n",
      "valid: //div[@id='results_objectname1']/a\n",
      "valid: descendant-or-self::div[@class and contains(concat(' ', normalize-space(@class), ' '), ' collection_objectname ')]/descendant-or-self::*/a[@class and contains(concat(' ', normalize-space(@class), ' '), ' primary ')]\n",
      "invalid: /html/body/div[2]/main/div[2]/geekoutput-sidebar/div/div[2]/div/hotness-module/ul/li[11]/a/div[2]/div[1]\n",
      "valid: descendant-or-self::a[(@class and contains(concat(' ', normalize-space(@class), ' '), ' primary ')) and (@href and starts-with(@href, '/boardgame/'))]\n",
      "valid: /html/body/div[2]/main/div[2]/div/div[1]/div/div/div[2]/div[3]/table/tbody/tr/td/div/ul/li/div/h3/a\n",
      "valid: //div[@id='results_objectname1']/a[@class='primary']\n",
      "xpath_text_matches Counter({'/html/body/div[2]/main/div[2]/div/div[1]/div/div/div[2]/div[3]/table/tbody/tr/td[3]/div[2]/a': 101, \"descendant-or-self::a[(@class and contains(concat(' ', normalize-space(@class), ' '), ' primary ')) and (@href and starts-with(@href, '/boardgame/'))]\": 101, '/html/body/div[2]/main/div[2]/div/div[1]/div/div/div[2]/div[3]/table/tbody/tr/td/div/ul/li/div/h3/a': 4, \"//div[@id='results_objectname1']/a\": 2, \"//div[@id='results_objectname1']/a[@class='primary']\": 2, \"descendant-or-self::div[@class and contains(concat(' ', normalize-space(@class), ' '), ' collection_objectname ')]/descendant-or-self::*/a[@class and contains(concat(' ', normalize-space(@class), ' '), ' primary ')]\": 1})\n",
      "/html/body/div[2]/main/div[2]/div/div[1]/div/div/div[2]/div[3]/table/tbody/tr/td[3]/div[2]/a\n"
     ]
    }
   ],
   "source": [
    "html = await page.content()\n",
    "aipage = ais.page(page.url, html)\n",
    "print(page.url, len(html), len(aipage.cleaned_html))\n",
    "xpath = await aipage.get_xpath('links to game titles in the board game ranking list', [require_href], verbose=True)\n",
    "print(xpath)"
   ],
   "metadata": {
    "collapsed": false,
    "ExecuteTime": {
     "end_time": "2024-04-17T16:40:36.458098355Z",
     "start_time": "2024-04-17T16:39:14.134902631Z"
    }
   },
   "id": "59ec5be783764664"
  },
  {
   "cell_type": "markdown",
   "source": [
    "## Navigate to each page and get the title and average rating"
   ],
   "metadata": {
    "collapsed": false
   },
   "id": "98a80d0220a74f0f"
  },
  {
   "cell_type": "code",
   "execution_count": 17,
   "outputs": [
    {
     "name": "stdout",
     "output_type": "stream",
     "text": [
      "100\n"
     ]
    }
   ],
   "source": [
    "games_count = len(await page.locator(\"xpath=\"+xpath).element_handles())\n",
    "print(games_count)"
   ],
   "metadata": {
    "collapsed": false,
    "ExecuteTime": {
     "end_time": "2024-04-17T16:40:49.316848055Z",
     "start_time": "2024-04-17T16:40:49.186194216Z"
    }
   },
   "id": "179a6f77f3ad8eb9"
  },
  {
   "cell_type": "code",
   "execution_count": 19,
   "outputs": [
    {
     "name": "stdout",
     "output_type": "stream",
     "text": [
      "title_xpath //div[@class='game-header-title-info']/h1/a/span\n",
      "title Brass: Birmingham\n",
      "rating_xpath /html/body/div[2]/main/div[2]/div/div[1]/div[2]/ng-include/div/ng-include/div/div[2]/div[2]/div[1]/div/div[1]/overall-rating/div/div/a/span[1]\n",
      "rating  \t\t\t\t\t8.6 \t\t\t\t\n",
      "title_xpath //div[@class='game-header-title-info']/h1/a/span\n",
      "title Pandemic Legacy: Season 1\n",
      "rating_xpath /html/body/div[2]/main/div[2]/div/div[1]/div[2]/ng-include/div/ng-include/div/div[2]/div[2]/div[1]/div/div[1]/overall-rating/div/div/a/span[1]\n",
      "rating  \t\t\t\t\t8.5 \t\t\t\t\n",
      "title_xpath //div[@class='game-header-title-info']/h1/a/span\n",
      "title Gloomhaven\n",
      "rating_xpath /html/body/div[2]/main/div[2]/div/div[1]/div[2]/ng-include/div/ng-include/div/div[2]/div[2]/div[1]/div/div[1]/overall-rating/div/div/a/span[1]\n",
      "rating  \t\t\t\t\t8.6 \t\t\t\t\n",
      "title_xpath //div[@class='game-header-title-info']/h1/a/span\n",
      "title Ark Nova\n",
      "rating_xpath /html/body/div[2]/main/div[2]/div/div[1]/div[2]/ng-include/div/ng-include/div/div[2]/div[2]/div[1]/div/div[1]/overall-rating/div/div/a/span[1]\n",
      "rating  \t\t\t\t\t8.5 \t\t\t\t\n",
      "title_xpath //div[@class='game-header-title-info']/h1/a/span\n",
      "title Twilight Imperium: Fourth Edition\n",
      "rating_xpath /html/body/div[2]/main/div[2]/div/div[1]/div[2]/ng-include/div/ng-include/div/div[2]/div[2]/div[1]/div/div[1]/overall-rating/div/div/a/span[1]\n",
      "rating  \t\t\t\t\t8.6 \t\t\t\t\n",
      "title_xpath //div[@class='game-header-title-info']/h1/a/span\n",
      "title Dune: Imperium\n",
      "rating_xpath /html/body/div[2]/main/div[2]/div/div[1]/div[2]/ng-include/div/ng-include/div/div[2]/div[2]/div[1]/div/div[1]/overall-rating/div/div/a/span[1]\n",
      "rating  \t\t\t\t\t8.4 \t\t\t\t\n"
     ]
    }
   ],
   "source": [
    "for i in range(games_count):\n",
    "    if i > 5:\n",
    "        break\n",
    "    elms = await page.locator(\"xpath=\"+xpath).element_handles()\n",
    "    await elms[i].click()\n",
    "    await page.wait_for_load_state()\n",
    "    html = await page.content()\n",
    "    game_page = ais.page(page.url, html)\n",
    "    title_xpath = await game_page.get_xpath('game title', [require_unique], verbose=False)\n",
    "    print('title_xpath', title_xpath)\n",
    "    title = await page.locator('xpath='+title_xpath).text_content()\n",
    "    print('title', title)\n",
    "    rating_xpath = await game_page.get_xpath('average rating', [require_unique], verbose=False)\n",
    "    print('rating_xpath', rating_xpath)\n",
    "    rating = await page.locator('xpath='+rating_xpath).text_content()\n",
    "    print('rating', rating)\n",
    "    await page.go_back()\n",
    "    # await page.wait_for_load_state()"
   ],
   "metadata": {
    "collapsed": false,
    "ExecuteTime": {
     "end_time": "2024-04-17T16:42:23.128326719Z",
     "start_time": "2024-04-17T16:41:56.878241802Z"
    }
   },
   "id": "ea532fc7a30b10f"
  },
  {
   "cell_type": "markdown",
   "source": [
    "## Show the cache\n",
    "\n",
    "The cache maps prompts to the xpaths that were found for the prompts. \n",
    "It can be saved and re-loaded later to avoid having to re-evaluate the prompts in future runs.\n",
    "In future runs, if a cached xpath doesn't match anything, the prompt will be re-evaluated and the cache updated with the new xpath."
   ],
   "metadata": {
    "collapsed": false
   },
   "id": "370ed693b3b3fc66"
  },
  {
   "cell_type": "code",
   "execution_count": 20,
   "outputs": [
    {
     "data": {
      "text/plain": "{'boardgamegeek.com|browse menu': \"//button[contains(text(), 'Browse')]\",\n 'boardgamegeek.com|all boardgames link': \"//a[@href='/browse/boardgame']\",\n 'boardgamegeek.com|links to game titles in the board game ranking list': '/html/body/div[2]/main/div[2]/div/div[1]/div/div/div[2]/div[3]/table/tbody/tr/td[3]/div[2]/a',\n 'boardgamegeek.com|game title': \"//div[@class='game-header-title-info']/h1/a/span\",\n 'boardgamegeek.com|average rating': '/html/body/div[2]/main/div[2]/div/div[1]/div[2]/ng-include/div/ng-include/div/div[2]/div[2]/div[1]/div/div[1]/overall-rating/div/div/a/span[1]'}"
     },
     "execution_count": 20,
     "metadata": {},
     "output_type": "execute_result"
    }
   ],
   "source": [
    "ais._cache"
   ],
   "metadata": {
    "collapsed": false,
    "ExecuteTime": {
     "end_time": "2024-04-17T16:42:23.165754312Z",
     "start_time": "2024-04-17T16:42:23.129114310Z"
    }
   },
   "id": "2455fa5a543ed7c2"
  },
  {
   "cell_type": "code",
   "execution_count": 21,
   "outputs": [],
   "source": [
    "ais.save_cache(cache_path)"
   ],
   "metadata": {
    "collapsed": false,
    "ExecuteTime": {
     "end_time": "2024-04-17T16:42:23.170657033Z",
     "start_time": "2024-04-17T16:42:23.149404100Z"
    }
   },
   "id": "6054b0b9753a03fe"
  },
  {
   "cell_type": "markdown",
   "source": [
    "## Clean up"
   ],
   "metadata": {
    "collapsed": false
   },
   "id": "93d338a42bc7c758"
  },
  {
   "cell_type": "code",
   "execution_count": 98,
   "id": "c40b51e1-5109-4f68-a570-99725cbcf4a7",
   "metadata": {
    "ExecuteTime": {
     "end_time": "2024-04-17T16:16:34.866620083Z",
     "start_time": "2024-04-17T16:16:34.081848885Z"
    }
   },
   "outputs": [],
   "source": [
    "await browser.close()\n",
    "await playwright.stop()"
   ]
  },
  {
   "cell_type": "markdown",
   "source": [
    "## misc test cells"
   ],
   "metadata": {
    "collapsed": false
   },
   "id": "d79066e82ee5d240"
  },
  {
   "cell_type": "code",
   "execution_count": null,
   "outputs": [],
   "source": [
    "from lxml import html as lxml_html\n",
    "from lxml import etree\n",
    "\n",
    "xpath = \"/html/body/div[2]/main/div[2]/div/div[1]/div/div/div[2]/div[3]/table/tbody/tr/td[3]/div[2]/a\"\n",
    "tree = lxml_html.fromstring(aipage.html)\n",
    "elms = tree.xpath(xpath)\n",
    "print(len(elms))\n",
    "for ix, elm in enumerate(elms):\n",
    "    print(etree.tostring(elm))\n",
    "    print('\\n')\n",
    "    if ix == 10:\n",
    "        break\n"
   ],
   "metadata": {
    "collapsed": false
   },
   "id": "8e9093cb0e835190"
  }
 ],
 "metadata": {
  "kernelspec": {
   "display_name": "Python 3 (ipykernel)",
   "language": "python",
   "name": "python3"
  },
  "language_info": {
   "codemirror_mode": {
    "name": "ipython",
    "version": 3
   },
   "file_extension": ".py",
   "mimetype": "text/x-python",
   "name": "python",
   "nbconvert_exporter": "python",
   "pygments_lexer": "ipython3",
   "version": "3.11.9"
  }
 },
 "nbformat": 4,
 "nbformat_minor": 5
}
